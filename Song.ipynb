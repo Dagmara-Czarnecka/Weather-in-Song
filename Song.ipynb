{
 "cells": [
  {
   "cell_type": "code",
   "execution_count": 1,
   "metadata": {},
   "outputs": [],
   "source": [
    "import requests\n",
    "from time import sleep\n"
   ]
  },
  {
   "cell_type": "code",
   "execution_count": 2,
   "metadata": {},
   "outputs": [],
   "source": [
    "THEAUDIODB_KEY = '2'\n",
    "GEOCODEXYZ_KEY = '380679307950996259772x117820' \n",
    "OPENWEATHERMAPORG_KEY = '79813e329c32749604812b3ac1396b29'"
   ]
  },
  {
   "cell_type": "code",
   "execution_count": 3,
   "metadata": {},
   "outputs": [],
   "source": [
    "def get_band(name):\n",
    "    print('Pobieram dane o zespole...')\n",
    "    band_details_response = requests.get(f'https://www.theaudiodb.com/api/v1/json/{THEAUDIODB_KEY}/search.php', {'s': name})\n",
    "    band_details = band_details_response.json()\n",
    "\n",
    "    sleep(2)  # wymagane przez dokumentację API: https://www.theaudiodb.com/api_guide.php\n",
    "\n",
    "    if band_details['artists']:\n",
    "        return {'id': band_details['artists'][0]['idArtist'], 'name': band_details['artists'][0]['strArtist']}\n",
    "    else:\n",
    "        return None\n"
   ]
  },
  {
   "cell_type": "code",
   "execution_count": 4,
   "metadata": {},
   "outputs": [],
   "source": [
    "def get_album_ids(band_id):\n",
    "    print('Pobieram albumy...')\n",
    "    albums_response = requests.get(f'https://theaudiodb.com/api/v1/json/{THEAUDIODB_KEY}/album.php', {'i': band_id})\n",
    "    albums = albums_response.json()\n",
    "\n",
    "    sleep(2)  # wymagane przez dokumentację API: https://www.theaudiodb.com/api_guide.php\n",
    "\n",
    "    return [album['idAlbum'] for album in albums['album']]\n"
   ]
  },
  {
   "cell_type": "code",
   "execution_count": 5,
   "metadata": {},
   "outputs": [],
   "source": [
    "def get_tracks(album_id):\n",
    "    print(f'Pobieram ścieżki z albumu {album_id}...')\n",
    "    tracks_response = requests.get(f'https://theaudiodb.com/api/v1/json/{THEAUDIODB_KEY}/track.php', {'m': album_id})\n",
    "    tracks = tracks_response.json()\n",
    "\n",
    "    sleep(2)  # wymagane przez dokumentację API: https://www.theaudiodb.com/api_guide.php\n",
    "\n",
    "    return [track['strTrack'] for track in tracks['track']]\n"
   ]
  },
  {
   "cell_type": "code",
   "execution_count": 6,
   "metadata": {},
   "outputs": [],
   "source": [
    "from urllib.parse import quote\n",
    "\n",
    "def get_lyrics(band, title):\n",
    "    try:\n",
    "        response = requests.get(f'https://api.lyrics.ovh/v1/{quote(band)}/{quote(title)}', \n",
    "        timeout=15)\n",
    "        sleep(2)  # wymagane przez dokumentację API: https://www.theaudiodb.com/api_guide.php\n",
    "        \n",
    "        return response.json()['lyrics']\n",
    "    except Exception:\n",
    "        print(f'Brak tekstu dla {band} - {title}')\n",
    "        return None\n"
   ]
  },
  {
   "cell_type": "code",
   "execution_count": 7,
   "metadata": {},
   "outputs": [],
   "source": [
    "def get_places(text):\n",
    "    response = requests.post('https://geocode.xyz', {'scantext': text, 'geoit': 'json', 'sentiment': 'analysis', 'auth': GEOCODEXYZ_KEY})\n",
    "    if response.status_code == 200:\n",
    "        content = response.json()\n",
    "        if 'match' not in content:\n",
    "            print('Brak lokalizacji w tekście')\n",
    "            return []\n",
    "        if type(content['match']) == list:\n",
    "            return [match['location'] for match in content['match']]\n",
    "        else:\n",
    "            return [content['match']['location']]\n",
    "    else:\n",
    "        print('Zapytanie do geocode.xyz wróciło ze statusem', response.status_code)\n",
    "        return []\n"
   ]
  },
  {
   "cell_type": "code",
   "execution_count": 8,
   "metadata": {},
   "outputs": [],
   "source": [
    "def get_weather(location):\n",
    "    response = requests.get(f'http://api.openweathermap.org/data/2.5/weather', {'q': location, 'appid': OPENWEATHERMAPORG_KEY})\n",
    "    if response.ok:\n",
    "        return response.json()['weather'][0]['description']\n",
    "    else:\n",
    "        print('Nie znaleziono pogody dla:', location)\n",
    "        return None\n"
   ]
  },
  {
   "cell_type": "code",
   "execution_count": null,
   "metadata": {},
   "outputs": [],
   "source": [
    "name = input('Podaj nazwę zespołu')\n",
    "\n",
    "band = get_band(name)\n",
    "if band:\n",
    "    print('Znaleziono:', band['name'])\n",
    "\n",
    "    album_ids = get_album_ids(band['id'])\n",
    "\n",
    "    all_tracks = []\n",
    "    for aid in album_ids:\n",
    "        album_tracks = get_tracks(aid)\n",
    "        all_tracks.extend(album_tracks)\n",
    "\n",
    "    for track_name in all_tracks:\n",
    "        lyrics = get_lyrics(band['name'], track_name)\n",
    "        if not lyrics:\n",
    "            continue\n",
    "\n",
    "        places = get_places(lyrics)\n",
    "\n",
    "        for place in places:\n",
    "            weather = get_weather(place)\n",
    "            if weather:\n",
    "                print(f'Pogoda dla {place}: {weather} ({track_name} - {band[\"name\"]})')\n",
    "\n",
    "else:\n",
    "    print('Nie znaleziono:', name)\n"
   ]
  }
 ],
 "metadata": {
  "kernelspec": {
   "display_name": "Python 3 (ipykernel)",
   "language": "python",
   "name": "python3"
  },
  "language_info": {
   "codemirror_mode": {
    "name": "ipython",
    "version": 3
   },
   "file_extension": ".py",
   "mimetype": "text/x-python",
   "name": "python",
   "nbconvert_exporter": "python",
   "pygments_lexer": "ipython3",
   "version": "3.9.12"
  }
 },
 "nbformat": 4,
 "nbformat_minor": 4
}
